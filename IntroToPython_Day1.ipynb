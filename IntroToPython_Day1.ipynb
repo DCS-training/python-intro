{
 "cells": [
  {
   "cell_type": "markdown",
   "id": "former-barrel",
   "metadata": {},
   "source": [
    "# CDCS Introduction To Python\n",
    "## Day 1"
   ]
  },
  {
   "cell_type": "code",
   "execution_count": 1,
   "id": "opposed-sentence",
   "metadata": {},
   "outputs": [
    {
     "name": "stdout",
     "output_type": "stream",
     "text": [
      "hello world\n"
     ]
    }
   ],
   "source": [
    "print(\"hello world\") # hard coding"
   ]
  },
  {
   "cell_type": "code",
   "execution_count": 9,
   "id": "motivated-royalty",
   "metadata": {},
   "outputs": [],
   "source": [
    "greet = \"howdy!\""
   ]
  },
  {
   "cell_type": "code",
   "execution_count": 10,
   "id": "durable-letters",
   "metadata": {},
   "outputs": [
    {
     "data": {
      "text/plain": [
       "'howdy!'"
      ]
     },
     "execution_count": 10,
     "metadata": {},
     "output_type": "execute_result"
    }
   ],
   "source": [
    "greet"
   ]
  },
  {
   "cell_type": "code",
   "execution_count": 11,
   "id": "improved-emphasis",
   "metadata": {},
   "outputs": [
    {
     "name": "stdout",
     "output_type": "stream",
     "text": [
      "howdy!\n"
     ]
    }
   ],
   "source": [
    "print(greet) # more efficient"
   ]
  },
  {
   "cell_type": "code",
   "execution_count": 12,
   "id": "violent-bones",
   "metadata": {},
   "outputs": [
    {
     "data": {
      "text/plain": [
       "str"
      ]
     },
     "execution_count": 12,
     "metadata": {},
     "output_type": "execute_result"
    }
   ],
   "source": [
    "type(greet) # string"
   ]
  },
  {
   "cell_type": "code",
   "execution_count": 7,
   "id": "treated-excerpt",
   "metadata": {},
   "outputs": [
    {
     "data": {
      "text/plain": [
       "3"
      ]
     },
     "execution_count": 7,
     "metadata": {},
     "output_type": "execute_result"
    }
   ],
   "source": [
    "x = 1\n",
    "y = 2\n",
    "x + y"
   ]
  },
  {
   "cell_type": "code",
   "execution_count": 8,
   "id": "cloudy-zimbabwe",
   "metadata": {},
   "outputs": [
    {
     "data": {
      "text/plain": [
       "int"
      ]
     },
     "execution_count": 8,
     "metadata": {},
     "output_type": "execute_result"
    }
   ],
   "source": [
    "type(x)  # integer"
   ]
  },
  {
   "cell_type": "code",
   "execution_count": 13,
   "id": "pediatric-federation",
   "metadata": {},
   "outputs": [],
   "source": [
    "h = 'hi'\n",
    "h2 = \"hello\"\n",
    "h3 = '''Humpty Dumpty sat on a wall,\n",
    "Humpty Dumpty had a great fall.'''"
   ]
  },
  {
   "cell_type": "code",
   "execution_count": 14,
   "id": "thousand-johnson",
   "metadata": {},
   "outputs": [
    {
     "name": "stdout",
     "output_type": "stream",
     "text": [
      "hi\n",
      "hello\n",
      "Humpty Dumpty sat on a wall,\n",
      "Humpty Dumpty had a great fall.\n"
     ]
    }
   ],
   "source": [
    "print(h)\n",
    "print(h2)\n",
    "print(h3)"
   ]
  },
  {
   "cell_type": "code",
   "execution_count": 16,
   "id": "alive-italy",
   "metadata": {},
   "outputs": [],
   "source": [
    "h3 = \"Humpty Dumpty sat on a wall, Humpty Dumpty had a great fall.\""
   ]
  },
  {
   "cell_type": "code",
   "execution_count": null,
   "id": "spread-sewing",
   "metadata": {},
   "outputs": [],
   "source": []
  },
  {
   "cell_type": "code",
   "execution_count": null,
   "id": "afraid-mathematics",
   "metadata": {},
   "outputs": [],
   "source": []
  }
 ],
 "metadata": {
  "kernelspec": {
   "display_name": "Python 3 (ipykernel)",
   "language": "python",
   "name": "python3"
  },
  "language_info": {
   "codemirror_mode": {
    "name": "ipython",
    "version": 3
   },
   "file_extension": ".py",
   "mimetype": "text/x-python",
   "name": "python",
   "nbconvert_exporter": "python",
   "pygments_lexer": "ipython3",
   "version": "3.9.2"
  }
 },
 "nbformat": 4,
 "nbformat_minor": 5
}
