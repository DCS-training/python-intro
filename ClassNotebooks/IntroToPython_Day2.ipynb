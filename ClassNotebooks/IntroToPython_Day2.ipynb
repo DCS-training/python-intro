{
 "cells": [
  {
   "cell_type": "markdown",
   "id": "another-geography",
   "metadata": {},
   "source": [
    "# Introduction to Python\n",
    "## Day 2\n",
    "\n",
    "\n",
    "* Organization: Centre for Data, Culture & Society, University of Edinburgh\n",
    "* Instructor: Lucy Havens\n",
    "* Date: 25 February 2022\n",
    "\n",
    "Today we'll continue using Jupyter Notebooks to practice using the programming language Python, covering functions, methods, modules, conditionals, error handling, loops and iteration, and recursion.\n",
    "\n",
    "### Functions vs. Methods\n",
    "\n",
    "Recall from last class that functions help programmers like us write code more efficiently. Sometimes, especially as your coding tasks become more complex, you'll find that you want to reuse the same code, or slight variations of the same code, again and again. Functions let you reuse code without having to rewrite it every time you want to use it. By storing lines of code you've written within the bounds of a function that you name, you can refer to those lines of code by the name to reuse that code.\n",
    "\n",
    "Methods work the same way, allowing you to reuse code, but it's more common to reuse methods that are built into Python than it is to write your own methods. Though both functions and methods allow you to reuse code for more efficient programming, but they are a little different.\n",
    "\n",
    "To understand this difference, let's first write a function ourselves:"
   ]
  },
  {
   "cell_type": "code",
   "execution_count": 54,
   "id": "minimal-archive",
   "metadata": {},
   "outputs": [],
   "source": [
    "# def subtractThenMultiply(no1, no2, no3):\n",
    "#     difference = no1 - no2\n",
    "#     product = difference * no3\n",
    "#     return product\n",
    "\n",
    "def subtractThenMultiply(no1, no2, no3=10):\n",
    "    difference = no1 - no2\n",
    "    product = difference * no3\n",
    "    return product"
   ]
  },
  {
   "cell_type": "code",
   "execution_count": 55,
   "id": "understood-hello",
   "metadata": {},
   "outputs": [
    {
     "data": {
      "text/plain": [
       "-10"
      ]
     },
     "execution_count": 55,
     "metadata": {},
     "output_type": "execute_result"
    }
   ],
   "source": [
    "A = 2\n",
    "B = 3\n",
    "C = 4\n",
    "subtractThenMultiply(A, B)"
   ]
  },
  {
   "cell_type": "code",
   "execution_count": 56,
   "id": "trying-potato",
   "metadata": {},
   "outputs": [],
   "source": [
    "result = subtractThenMultiply(A,B,C)"
   ]
  },
  {
   "cell_type": "code",
   "execution_count": 57,
   "id": "liable-weight",
   "metadata": {},
   "outputs": [
    {
     "data": {
      "text/plain": [
       "-4"
      ]
     },
     "execution_count": 57,
     "metadata": {},
     "output_type": "execute_result"
    }
   ],
   "source": [
    "result"
   ]
  },
  {
   "cell_type": "code",
   "execution_count": 58,
   "id": "isolated-drive",
   "metadata": {},
   "outputs": [
    {
     "name": "stdout",
     "output_type": "stream",
     "text": [
      "2 minus 3 time 10 equals -10\n"
     ]
    }
   ],
   "source": [
    "result = subtractThenMultiply(A, B)\n",
    "print('{first} minus {second} time {third} equals {fourth}'.format(first=A,second=B,third=10,fourth=result))"
   ]
  },
  {
   "cell_type": "markdown",
   "id": "stuffed-announcement",
   "metadata": {},
   "source": [
    "Notice that when we want to use the function, we put the **parameters** A, B and C on which to apply the function inside the parentheses that follow the function's name:\n",
    "\n",
    "`functionName(parameter1, parameter2, parameter3)`"
   ]
  },
  {
   "cell_type": "markdown",
   "id": "decreased-croatia",
   "metadata": {},
   "source": [
    "Now let's try using a method that Python gives us: `lower()`"
   ]
  },
  {
   "cell_type": "code",
   "execution_count": 59,
   "id": "documentary-bahrain",
   "metadata": {},
   "outputs": [
    {
     "data": {
      "text/plain": [
       "\"isn't python so much fun?!\""
      ]
     },
     "execution_count": 59,
     "metadata": {},
     "output_type": "execute_result"
    }
   ],
   "source": [
    "x = \"Isn't Python SO MUCH fun?!\"\n",
    "x.lower()"
   ]
  },
  {
   "cell_type": "code",
   "execution_count": 60,
   "id": "biblical-person",
   "metadata": {},
   "outputs": [
    {
     "data": {
      "text/plain": [
       "\"Isn't Python SO MUCH fun?!\""
      ]
     },
     "execution_count": 60,
     "metadata": {},
     "output_type": "execute_result"
    }
   ],
   "source": [
    "x"
   ]
  },
  {
   "cell_type": "code",
   "execution_count": 61,
   "id": "protecting-argentina",
   "metadata": {},
   "outputs": [
    {
     "data": {
      "text/plain": [
       "\"isn't python so much fun?!\""
      ]
     },
     "execution_count": 61,
     "metadata": {},
     "output_type": "execute_result"
    }
   ],
   "source": [
    "x = x.lower()\n",
    "x"
   ]
  },
  {
   "cell_type": "markdown",
   "id": "qualified-memory",
   "metadata": {},
   "source": [
    "What happened to the string we stored in **variable** x?\n",
    "\n",
    "What difference do you notice about how we used the method lower() versus how we used the function `subtractThenMultiply()`?\n",
    "\n",
    "The *syntax* is different: a method follows the thing on which you want to apply the method, separated by a period, while a function's parentheses contain the thing(s) on which you want to apply the function.\n",
    "\n",
    "`some_data.methodName() vs. functionName(parameter1, parameter2, parameter3)`"
   ]
  },
  {
   "cell_type": "markdown",
   "id": "possible-north",
   "metadata": {},
   "source": [
    "### Modules\n",
    "\n",
    "Let's practice using other built-in libraries of code that Python gives us called **modules**. Modules aren't as commonly used as methods, as they apply to more specific programming tasks, so they're not pre-loaded with Python in a Jupyter Notebook. Don't worry, though, they're easy to load! All we have to do is write in a code cell:\n",
    "\n",
    "`import moduleName`\n",
    "\n",
    "There are lots of modules available to you in Python: check out [this index](https://docs.python.org/3/py-modindex.html) for the complete list!"
   ]
  },
  {
   "cell_type": "code",
   "execution_count": 62,
   "id": "dried-upset",
   "metadata": {},
   "outputs": [],
   "source": [
    "import string"
   ]
  },
  {
   "cell_type": "code",
   "execution_count": 63,
   "id": "automated-default",
   "metadata": {},
   "outputs": [
    {
     "data": {
      "text/plain": [
       "'!\"#$%&\\'()*+,-./:;<=>?@[\\\\]^_`{|}~'"
      ]
     },
     "execution_count": 63,
     "metadata": {},
     "output_type": "execute_result"
    }
   ],
   "source": [
    "string.punctuation"
   ]
  },
  {
   "cell_type": "code",
   "execution_count": 64,
   "id": "filled-gallery",
   "metadata": {},
   "outputs": [
    {
     "data": {
      "text/plain": [
       "'abcdefghijklmnopqrstuvwxyz'"
      ]
     },
     "execution_count": 64,
     "metadata": {},
     "output_type": "execute_result"
    }
   ],
   "source": [
    "string.ascii_lowercase"
   ]
  },
  {
   "cell_type": "code",
   "execution_count": 65,
   "id": "analyzed-privilege",
   "metadata": {},
   "outputs": [
    {
     "data": {
      "text/plain": [
       "'ABCDEFGHIJKLMNOPQRSTUVWXYZ'"
      ]
     },
     "execution_count": 65,
     "metadata": {},
     "output_type": "execute_result"
    }
   ],
   "source": [
    "string.ascii_uppercase"
   ]
  },
  {
   "cell_type": "code",
   "execution_count": 66,
   "id": "binding-cherry",
   "metadata": {},
   "outputs": [
    {
     "name": "stdout",
     "output_type": "stream",
     "text": [
      "abcdefghijklmnopqrstuvwxyzABCDEFGHIJKLMNOPQRSTUVWXYZ\n"
     ]
    }
   ],
   "source": [
    "alphabet = string.ascii_lowercase+string.ascii_uppercase\n",
    "print(alphabet)"
   ]
  },
  {
   "cell_type": "code",
   "execution_count": 67,
   "id": "pacific-performance",
   "metadata": {},
   "outputs": [
    {
     "name": "stdout",
     "output_type": "stream",
     "text": [
      "Alphabet: abcdefghijklmnopqrstuvwxyzABCDEFGHIJKLMNOPQRSTUVWXYZ\n"
     ]
    }
   ],
   "source": [
    "print(f'Alphabet: {string.ascii_lowercase}{string.ascii_uppercase}')"
   ]
  },
  {
   "cell_type": "code",
   "execution_count": 68,
   "id": "angry-waterproof",
   "metadata": {},
   "outputs": [
    {
     "data": {
      "text/plain": [
       "datetime.datetime(2022, 2, 25, 11, 22, 36, 791621)"
      ]
     },
     "execution_count": 68,
     "metadata": {},
     "output_type": "execute_result"
    }
   ],
   "source": [
    "datetime.datetime.now()"
   ]
  },
  {
   "cell_type": "markdown",
   "id": "faced-teach",
   "metadata": {},
   "source": [
    "Whoops!  In order to use a module, we need to first *import* it into our Notebook:"
   ]
  },
  {
   "cell_type": "code",
   "execution_count": 69,
   "id": "peaceful-thesaurus",
   "metadata": {},
   "outputs": [],
   "source": [
    "import datetime"
   ]
  },
  {
   "cell_type": "code",
   "execution_count": 70,
   "id": "continental-safety",
   "metadata": {},
   "outputs": [
    {
     "data": {
      "text/plain": [
       "datetime.datetime(2022, 2, 25, 11, 22, 36, 815032)"
      ]
     },
     "execution_count": 70,
     "metadata": {},
     "output_type": "execute_result"
    }
   ],
   "source": [
    "datetime.datetime.now()"
   ]
  },
  {
   "cell_type": "markdown",
   "id": "funky-lafayette",
   "metadata": {},
   "source": [
    "Hmm.  That doesn't look very nice.\n",
    "\n",
    "The datetime module has ways to specify the format of dates, though, so let's try using some of those to see if we can get a more readable version of today's date:"
   ]
  },
  {
   "cell_type": "code",
   "execution_count": 71,
   "id": "infinite-entry",
   "metadata": {},
   "outputs": [
    {
     "data": {
      "text/plain": [
       "'25/02/2022'"
      ]
     },
     "execution_count": 71,
     "metadata": {},
     "output_type": "execute_result"
    }
   ],
   "source": [
    "today = datetime.datetime.now()\n",
    "today.strftime(\"%d/%m/%Y\")"
   ]
  },
  {
   "cell_type": "markdown",
   "id": "phantom-symposium",
   "metadata": {},
   "source": [
    "That looks much better!\n",
    "\n",
    "`strftime()` is the string format time module: we can specify the date or time format we would like to use inside quotes.  `%d` refers to the day of the month, `%m` refers to the month written as a two-digit number, and `%Y` refers to the year written as a four-digit number.  What do you think `%y` would give us?  `%b`?  `%B`?\n",
    "\n",
    "Let's see..."
   ]
  },
  {
   "cell_type": "code",
   "execution_count": 72,
   "id": "brown-presentation",
   "metadata": {},
   "outputs": [
    {
     "name": "stdout",
     "output_type": "stream",
     "text": [
      "25 Feb 22\n",
      "February 25, 2022\n"
     ]
    }
   ],
   "source": [
    "print(today.strftime(\"%d %b %y\"))\n",
    "print(today.strftime(\"%B %d, %Y\"))"
   ]
  },
  {
   "cell_type": "code",
   "execution_count": 73,
   "id": "generic-tulsa",
   "metadata": {},
   "outputs": [
    {
     "name": "stdout",
     "output_type": "stream",
     "text": [
      "Time This Code Executed: 11:22:36\n"
     ]
    }
   ],
   "source": [
    "print(today.strftime(\"Time This Code Executed: %H:%M:%S\"))"
   ]
  },
  {
   "cell_type": "markdown",
   "id": "herbal-choir",
   "metadata": {},
   "source": [
    "For more date and time formatting options to input into `strftime()`, visit [this W3 Schools resource](https://www.w3schools.com/python/python_datetime.asp)."
   ]
  },
  {
   "cell_type": "markdown",
   "id": "occasional-offense",
   "metadata": {},
   "source": [
    "### Conditionals\n",
    "\n",
    "Conditionals are useful in functions where you have code you may want to reuse but, depending on what data you're looking at, different lines of code should be run. The key terms when writing conditionals are `if`, `elif` (for 'else if'), and `else`."
   ]
  },
  {
   "cell_type": "code",
   "execution_count": 74,
   "id": "understood-graduation",
   "metadata": {},
   "outputs": [
    {
     "name": "stdout",
     "output_type": "stream",
     "text": [
      "True\n"
     ]
    }
   ],
   "source": [
    "# if/elif/else\n",
    "\n",
    "year = 2032\n",
    "# year = None\n",
    "# year = '2021'\n",
    "\n",
    "if year < 2022:\n",
    "    future = False  # Boolean values: True, False\n",
    "elif year == 2022:\n",
    "    time = False\n",
    "else:\n",
    "    future = True\n",
    "print(future)\n",
    "\n",
    "# if year < 2022:\n",
    "#     time = \"past\"\n",
    "# elif year == 2022:\n",
    "#     time = \"present\"\n",
    "# else:\n",
    "#     future = \"future\"\n",
    "# print(future)"
   ]
  },
  {
   "cell_type": "code",
   "execution_count": 75,
   "id": "animal-triple",
   "metadata": {},
   "outputs": [],
   "source": [
    "def inFuture(year):\n",
    "    future = False\n",
    "    try:\n",
    "        if year > 2022:\n",
    "            future = True\n",
    "    except TypeError:\n",
    "        return 'Please input an integer to provide a valid year for evaluation.'\n",
    "    return future"
   ]
  },
  {
   "cell_type": "code",
   "execution_count": 76,
   "id": "waiting-massage",
   "metadata": {},
   "outputs": [
    {
     "name": "stdout",
     "output_type": "stream",
     "text": [
      "Please input an integer to provide a valid year for evaluation.\n",
      "False\n",
      "True\n"
     ]
    }
   ],
   "source": [
    "y1 = None\n",
    "y2 = 1900\n",
    "y3 = 2032\n",
    "print(inFuture(y1))\n",
    "print(inFuture(y2))\n",
    "print(inFuture(y3))"
   ]
  },
  {
   "cell_type": "markdown",
   "id": "noble-preservation",
   "metadata": {},
   "source": [
    "### Loops and Iteration\n",
    "Loops and iteration let you execute a task repeatedly for a set period. You can use loops and iteration to look at data or change data."
   ]
  },
  {
   "cell_type": "code",
   "execution_count": 77,
   "id": "apparent-combat",
   "metadata": {},
   "outputs": [
    {
     "name": "stdout",
     "output_type": "stream",
     "text": [
      "None\n",
      "1900\n",
      "2032\n"
     ]
    }
   ],
   "source": [
    "years = [y1, y2, y3]  \n",
    "# Note: the `years` variable is storing three variables in a List, which is a data type we'll cover next class!\n",
    "for y in years:\n",
    "    print(y)"
   ]
  },
  {
   "cell_type": "code",
   "execution_count": 78,
   "id": "cardiovascular-filter",
   "metadata": {},
   "outputs": [
    {
     "name": "stdout",
     "output_type": "stream",
     "text": [
      "10\n",
      "9\n",
      "8\n",
      "7\n",
      "6\n",
      "5\n",
      "4\n",
      "3\n",
      "2\n",
      "1\n",
      "0\n"
     ]
    }
   ],
   "source": [
    "x = 10\n",
    "while x > -1:\n",
    "    print(x)\n",
    "    x = x - 1\n",
    "\n",
    "# Infinite loop - press the stop buttom (the square to the right of the 'Run' button) to stop the code!\n",
    "# x = 10\n",
    "# while x >= -1:\n",
    "#     print(x)\n",
    "#     x = x+x - 1"
   ]
  },
  {
   "cell_type": "markdown",
   "id": "rural-bangkok",
   "metadata": {},
   "source": [
    "### Recursion\n",
    "\n",
    "Functions that call themselves."
   ]
  },
  {
   "cell_type": "code",
   "execution_count": 79,
   "id": "behind-outdoors",
   "metadata": {},
   "outputs": [
    {
     "name": "stdout",
     "output_type": "stream",
     "text": [
      "2\n",
      "4\n",
      "8\n"
     ]
    },
    {
     "data": {
      "text/plain": [
       "'Done!'"
      ]
     },
     "execution_count": 79,
     "metadata": {},
     "output_type": "execute_result"
    }
   ],
   "source": [
    "def doubleNTo10(n):\n",
    "    if n >= 10:\n",
    "        return \"Done!\"\n",
    "    else:\n",
    "        print(n)\n",
    "        return doubleNTo10(n+n)\n",
    "doubleNTo10(2)"
   ]
  },
  {
   "cell_type": "markdown",
   "id": "established-small",
   "metadata": {},
   "source": [
    "How would you write a countdown function with recursion?"
   ]
  },
  {
   "cell_type": "code",
   "execution_count": null,
   "id": "portable-journey",
   "metadata": {},
   "outputs": [],
   "source": []
  },
  {
   "cell_type": "code",
   "execution_count": null,
   "id": "satellite-disabled",
   "metadata": {},
   "outputs": [],
   "source": []
  }
 ],
 "metadata": {
  "kernelspec": {
   "display_name": "Python 3 (ipykernel)",
   "language": "python",
   "name": "python3"
  },
  "language_info": {
   "codemirror_mode": {
    "name": "ipython",
    "version": 3
   },
   "file_extension": ".py",
   "mimetype": "text/x-python",
   "name": "python",
   "nbconvert_exporter": "python",
   "pygments_lexer": "ipython3",
   "version": "3.9.2"
  }
 },
 "nbformat": 4,
 "nbformat_minor": 5
}
