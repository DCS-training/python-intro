{
 "cells": [
  {
   "cell_type": "markdown",
   "id": "69b89c2e-7b7b-429f-b1d4-007800c63da9",
   "metadata": {},
   "source": [
    "# Introduction to Python\n",
    "## Day 3\n",
    "\n",
    "* **Organization:** Centre for Data, Culture & Society, University of Edinburgh\n",
    "* **Instructor:** Lucy Havens\n",
    "* **Date:** 28 February 2022\n",
    "\n",
    "Today we'll continue using [Jupyter Notebooks](https://jupyter.org) to practice using the programming language [Python](https://www.python.org), covering more Python's data types (List, Dictionary, Tuple, Set), equivalence (== vs. !=), and containment (in vs. not in)."
   ]
  },
  {
   "cell_type": "markdown",
   "id": "aggregate-stranger",
   "metadata": {},
   "source": [
    "### Recursion\n",
    "Solving a large problem by solving smaller versions of the same problem"
   ]
  },
  {
   "cell_type": "code",
   "execution_count": 2,
   "id": "rolled-equality",
   "metadata": {},
   "outputs": [],
   "source": [
    "def countdown(n):\n",
    "    print(n)\n",
    "    if n == 0:\n",
    "        return\n",
    "    countdown(n-1)"
   ]
  },
  {
   "cell_type": "code",
   "execution_count": 3,
   "id": "tracked-combine",
   "metadata": {},
   "outputs": [
    {
     "name": "stdout",
     "output_type": "stream",
     "text": [
      "10\n",
      "9\n",
      "8\n",
      "7\n",
      "6\n",
      "5\n",
      "4\n",
      "3\n",
      "2\n",
      "1\n",
      "0\n"
     ]
    }
   ],
   "source": [
    "countdown(10)"
   ]
  },
  {
   "cell_type": "code",
   "execution_count": null,
   "id": "popular-grade",
   "metadata": {},
   "outputs": [],
   "source": []
  },
  {
   "cell_type": "markdown",
   "id": "3998a547-8196-4ce4-b1a3-fb2324105031",
   "metadata": {},
   "source": [
    "### List\n",
    "\n",
    "Lists are a collection of items separated by a comma and surrounded by square brackets:\n",
    "\n",
    "`[item0, item1, item2]`\n",
    "\n",
    "If you've programmed in other languages, you may have come across a similar data type called an 'array.'"
   ]
  },
  {
   "cell_type": "code",
   "execution_count": 4,
   "id": "16d8f0a8-bbe5-408b-a084-81f943cce318",
   "metadata": {},
   "outputs": [
    {
     "data": {
      "text/plain": [
       "list"
      ]
     },
     "execution_count": 4,
     "metadata": {},
     "output_type": "execute_result"
    }
   ],
   "source": [
    "type([1, 2, 3])"
   ]
  },
  {
   "cell_type": "markdown",
   "id": "8428650f-4608-4460-a5ae-14242af0af41",
   "metadata": {},
   "source": [
    "The items can be any data type.  A list can contain items of all the same data types, such as the list of integers above, or different data types:"
   ]
  },
  {
   "cell_type": "code",
   "execution_count": null,
   "id": "08d6c6eb-627f-468b-ab66-5a8c6818288c",
   "metadata": {},
   "outputs": [],
   "source": []
  },
  {
   "cell_type": "markdown",
   "id": "6c721196-45ca-4a05-9dee-8e490fe56853",
   "metadata": {},
   "source": [
    "Lists can even contain lists!"
   ]
  },
  {
   "cell_type": "code",
   "execution_count": 5,
   "id": "0285b29e-3020-4f64-af7a-eff0202f3cc2",
   "metadata": {},
   "outputs": [
    {
     "name": "stdout",
     "output_type": "stream",
     "text": [
      "[[1, 2, 3], ['a', 'b', 'c']]\n"
     ]
    }
   ],
   "source": [
    "x = [1, 2, 3]\n",
    "y = [\"a\", \"b\", \"c\"]\n",
    "z = [x, y]\n",
    "print(z)"
   ]
  },
  {
   "cell_type": "markdown",
   "id": "88a74619-02cc-46c2-b58b-865ce30713df",
   "metadata": {},
   "source": [
    "The list above is a *two dimensional* list.  You may also hear people refer to a 2D list as a matrix."
   ]
  },
  {
   "cell_type": "markdown",
   "id": "c2f81c87-a3fb-4d7d-a959-6d377372544d",
   "metadata": {},
   "source": [
    "Items in a list can be referenced by their **index**, which is a number that refers to the item's position in the list.  As such, you may hear lists described as **indexable**.\n",
    "\n",
    "Remember that in Computer Science we start counting from 0, so indeces (the plural of index) begin with 0.  "
   ]
  },
  {
   "cell_type": "code",
   "execution_count": 6,
   "id": "599f9852-2e06-46f4-b610-d8fe771ebd0f",
   "metadata": {},
   "outputs": [
    {
     "name": "stdout",
     "output_type": "stream",
     "text": [
      "[1, 2, 3]\n",
      "1\n"
     ]
    }
   ],
   "source": [
    "print(z[0])\n",
    "print(z[0][0])"
   ]
  },
  {
   "cell_type": "markdown",
   "id": "c533fb16-e770-4bf8-9b84-0fe670724c2c",
   "metadata": {},
   "source": [
    "If you'd like to reference items in a list backwards, you can use negative numbers:"
   ]
  },
  {
   "cell_type": "code",
   "execution_count": 7,
   "id": "bbe93270-89a3-4610-8476-2c2f6846bb96",
   "metadata": {},
   "outputs": [
    {
     "name": "stdout",
     "output_type": "stream",
     "text": [
      "c\n"
     ]
    }
   ],
   "source": [
    "print(y[-1])"
   ]
  },
  {
   "cell_type": "markdown",
   "id": "13063a5e-efb9-494a-ac31-5a2397b427b1",
   "metadata": {},
   "source": [
    "If you'd like to reference a range of items in a list, you can use indeces and square brackets combined with a colon: `list_name[start_index:end_index]` "
   ]
  },
  {
   "cell_type": "code",
   "execution_count": 11,
   "id": "14b77c70-b84a-4e12-9cb2-e42f1be18124",
   "metadata": {},
   "outputs": [
    {
     "data": {
      "text/plain": [
       "[10, 20, 30, 40]"
      ]
     },
     "execution_count": 11,
     "metadata": {},
     "output_type": "execute_result"
    }
   ],
   "source": [
    "x = [10, 20, 30, 40]\n",
    "# x[2:3]  # [ inclusive : exclusive ]\n",
    "# x[:4]\n",
    "x[2:]\n",
    "x[:]"
   ]
  },
  {
   "cell_type": "markdown",
   "id": "4552eaf5-e09d-4f03-91b5-8e74d84cda9b",
   "metadata": {},
   "source": [
    "Note that the first number (the `start_index` number) is included in the result that prints, but the last number (the `end_index` number) is not; the result returns the list item at the index right before that last number."
   ]
  },
  {
   "cell_type": "markdown",
   "id": "050b587a-12fb-4392-a375-0e30cd407931",
   "metadata": {},
   "source": [
    "Lists are **mutable**, which means they can be changed.  We can change a list by adding items to it, removing items from it, or changing an item in the list."
   ]
  },
  {
   "cell_type": "code",
   "execution_count": 15,
   "id": "a6ecb684-df46-4306-99ce-fa6590115ce7",
   "metadata": {},
   "outputs": [
    {
     "name": "stdout",
     "output_type": "stream",
     "text": [
      "[[1, 2, 3], ['a', 'b', 'c'], 'three', ['three']]\n"
     ]
    }
   ],
   "source": [
    "# z = z + [[\"three\"]]  # same as...\n",
    "z += [[\"three\"]]\n",
    "print(z)"
   ]
  },
  {
   "cell_type": "code",
   "execution_count": 16,
   "id": "51ef5cc2-74e4-4738-996f-8281feaf4d3e",
   "metadata": {},
   "outputs": [],
   "source": [
    "z.remove('three')\n",
    "# z -= ['three']  # Doesn't work"
   ]
  },
  {
   "cell_type": "code",
   "execution_count": 17,
   "id": "1feb1649-bd1d-4c09-a282-62f578c7ec67",
   "metadata": {},
   "outputs": [
    {
     "data": {
      "text/plain": [
       "[[1, 2, 3], ['a', 'b', 'c'], ['three']]"
      ]
     },
     "execution_count": 17,
     "metadata": {},
     "output_type": "execute_result"
    }
   ],
   "source": [
    "z"
   ]
  },
  {
   "cell_type": "code",
   "execution_count": 18,
   "id": "b5e93b66-bdab-482f-b517-03e0402d08e4",
   "metadata": {},
   "outputs": [
    {
     "name": "stdout",
     "output_type": "stream",
     "text": [
      "['three']\n",
      "[[1, 2, 3], ['a', 'b', 'c']]\n"
     ]
    }
   ],
   "source": [
    "print(z.pop())\n",
    "print(z)"
   ]
  },
  {
   "cell_type": "markdown",
   "id": "38de0a5c-e682-47ba-9d87-34a04b634a62",
   "metadata": {},
   "source": [
    "Lists allow duplicates, meaning items in a list don't have to be unique, they appear repeatedly."
   ]
  },
  {
   "cell_type": "code",
   "execution_count": 20,
   "id": "454455b1-9128-4c12-9130-d0b3ed8c48a0",
   "metadata": {},
   "outputs": [
    {
     "name": "stdout",
     "output_type": "stream",
     "text": [
      "[True, False, True, True, False]\n"
     ]
    }
   ],
   "source": [
    "another_list = [True, False, True, True, False]\n",
    "type(another_list)\n",
    "print(another_list)"
   ]
  },
  {
   "cell_type": "markdown",
   "id": "2a03acd4-0977-4a7c-bbd7-c1e1466a2585",
   "metadata": {},
   "source": [
    "### Dictionary\n",
    "\n",
    "Dictionaries are a collection of paired items surrounded by curly braces.  The first item in a pair is called a **key** and the second item in a pair is called a **value**.  The keys and their values are separated by a colon.\n",
    "\n",
    "`{ key0:value0, key1:value1, key2:value2, key3:value3 }`"
   ]
  },
  {
   "cell_type": "code",
   "execution_count": 22,
   "id": "129118e4-4258-4146-9963-9477a4dc9467",
   "metadata": {},
   "outputs": [
    {
     "data": {
      "text/plain": [
       "dict"
      ]
     },
     "execution_count": 22,
     "metadata": {},
     "output_type": "execute_result"
    }
   ],
   "source": [
    "d = {1:\"a\", 2:\"b\", 3:\"c\"}\n",
    "type(d)"
   ]
  },
  {
   "cell_type": "markdown",
   "id": "ebdb4957-e7c5-4312-85a6-3b7e86bdcb99",
   "metadata": {},
   "source": [
    "Similar to lists, we can use square brackets to reference items in a dictionary.  In this case, though, we put the *key* inside the square brackets, not the index, and we get the value paired with that key as a result."
   ]
  },
  {
   "cell_type": "code",
   "execution_count": null,
   "id": "b0cf200e-4850-4b65-a4e7-12b49183c6b5",
   "metadata": {},
   "outputs": [],
   "source": []
  },
  {
   "cell_type": "code",
   "execution_count": null,
   "id": "5edb78f9-6067-417e-8801-8e43612f2b92",
   "metadata": {},
   "outputs": [],
   "source": []
  },
  {
   "cell_type": "code",
   "execution_count": null,
   "id": "0f2dbb13-7d58-4c4a-b592-aa4e09d48771",
   "metadata": {},
   "outputs": [],
   "source": []
  },
  {
   "cell_type": "markdown",
   "id": "6a6576a8-07ee-468a-9dce-0ad4be228764",
   "metadata": {},
   "source": [
    "What is the name for `keys()` and `values()`?\n",
    "\n",
    "In dictionaries, keys must be unique but values can repeat."
   ]
  },
  {
   "cell_type": "code",
   "execution_count": null,
   "id": "96e03327-e419-4e27-a107-e6ec9815de07",
   "metadata": {},
   "outputs": [],
   "source": []
  },
  {
   "cell_type": "code",
   "execution_count": null,
   "id": "e112e838-8312-4bdb-969d-efced79e3523",
   "metadata": {},
   "outputs": [],
   "source": []
  },
  {
   "cell_type": "markdown",
   "id": "ceef6646-4005-4040-82a1-fca9f3f0ddd1",
   "metadata": {},
   "source": [
    "Similar to lists, dictionaries can contain different data types..."
   ]
  },
  {
   "cell_type": "code",
   "execution_count": null,
   "id": "154c1267-0928-43db-a62c-dc6b4036cc58",
   "metadata": {},
   "outputs": [],
   "source": []
  },
  {
   "cell_type": "markdown",
   "id": "85d8e190-cc8c-4cf9-a148-2c87dbb4744e",
   "metadata": {},
   "source": [
    "Adding to dictionaries is very simple:"
   ]
  },
  {
   "cell_type": "code",
   "execution_count": 25,
   "id": "9fd284f8-59ca-46ac-8822-3cbae355a03a",
   "metadata": {},
   "outputs": [
    {
     "name": "stdout",
     "output_type": "stream",
     "text": [
      "{1: 'a', 2: 'b', 3: 'c', 4: 'd'}\n",
      "{1: 'a', 2: 'b', 3: 'c', 4: 'd'}\n",
      "d\n"
     ]
    }
   ],
   "source": [
    "print(d)\n",
    "d[4] = \"d\"\n",
    "print(d)\n",
    "print(d[4])"
   ]
  },
  {
   "cell_type": "markdown",
   "id": "e4f68488-6cc3-4767-9390-2e599deb4f72",
   "metadata": {},
   "source": [
    "There are two ways to remove items from a dictionary:"
   ]
  },
  {
   "cell_type": "code",
   "execution_count": 26,
   "id": "c67a6e6d-ba5e-4310-b6ec-eeb5028dedc7",
   "metadata": {},
   "outputs": [
    {
     "data": {
      "text/plain": [
       "'a'"
      ]
     },
     "execution_count": 26,
     "metadata": {},
     "output_type": "execute_result"
    }
   ],
   "source": [
    "# specific item - specify key\n",
    "d.pop(1)"
   ]
  },
  {
   "cell_type": "code",
   "execution_count": 27,
   "id": "furnished-positive",
   "metadata": {},
   "outputs": [
    {
     "data": {
      "text/plain": [
       "{2: 'b', 3: 'c', 4: 'd'}"
      ]
     },
     "execution_count": 27,
     "metadata": {},
     "output_type": "execute_result"
    }
   ],
   "source": [
    "d"
   ]
  },
  {
   "cell_type": "code",
   "execution_count": 28,
   "id": "level-income",
   "metadata": {},
   "outputs": [
    {
     "data": {
      "text/plain": [
       "(4, 'd')"
      ]
     },
     "execution_count": 28,
     "metadata": {},
     "output_type": "execute_result"
    }
   ],
   "source": [
    "d.popitem()"
   ]
  },
  {
   "cell_type": "code",
   "execution_count": 29,
   "id": "altered-danish",
   "metadata": {},
   "outputs": [
    {
     "data": {
      "text/plain": [
       "{2: 'b', 3: 'c'}"
      ]
     },
     "execution_count": 29,
     "metadata": {},
     "output_type": "execute_result"
    }
   ],
   "source": [
    "d"
   ]
  },
  {
   "cell_type": "markdown",
   "id": "gothic-playback",
   "metadata": {},
   "source": [
    "### Tuples\n",
    "**Ordered, indexable, immutable** collections of **repeatable** items of any data type"
   ]
  },
  {
   "cell_type": "code",
   "execution_count": null,
   "id": "informal-therapist",
   "metadata": {},
   "outputs": [],
   "source": []
  },
  {
   "cell_type": "code",
   "execution_count": null,
   "id": "vital-lobby",
   "metadata": {},
   "outputs": [],
   "source": []
  },
  {
   "cell_type": "code",
   "execution_count": null,
   "id": "accepted-identification",
   "metadata": {},
   "outputs": [],
   "source": []
  },
  {
   "cell_type": "code",
   "execution_count": null,
   "id": "behind-italy",
   "metadata": {},
   "outputs": [],
   "source": []
  },
  {
   "cell_type": "markdown",
   "id": "mysterious-methodology",
   "metadata": {},
   "source": [
    "### Set\n",
    "**Unordered, unindexable, mutable** collections of **unique, immutable** items"
   ]
  },
  {
   "cell_type": "code",
   "execution_count": 33,
   "id": "spoken-training",
   "metadata": {},
   "outputs": [
    {
     "name": "stdout",
     "output_type": "stream",
     "text": [
      "<class 'set'>\n",
      "{'carrot', 'broccoli', 'green bean', 'onion'}\n"
     ]
    }
   ],
   "source": [
    "veg = {\"carrot\", \"onion\", \"broccoli\", \"green bean\"}\n",
    "print(type(veg))\n",
    "print(veg)"
   ]
  },
  {
   "cell_type": "markdown",
   "id": "colonial-alignment",
   "metadata": {},
   "source": [
    "Items in a set cannot be referenced by their position (index) because the order of sets is not set in stone.  As a result, we also are unable to change individual items in a set (unlike a **dictionary**, where we can reference values by their keys and can thus change the values)."
   ]
  },
  {
   "cell_type": "code",
   "execution_count": 34,
   "id": "rough-craps",
   "metadata": {},
   "outputs": [
    {
     "ename": "TypeError",
     "evalue": "unhashable type: 'list'",
     "output_type": "error",
     "traceback": [
      "\u001b[0;31m---------------------------------------------------------------------------\u001b[0m",
      "\u001b[0;31mTypeError\u001b[0m                                 Traceback (most recent call last)",
      "\u001b[0;32m/tmp/ipykernel_65/3495676049.py\u001b[0m in \u001b[0;36m<module>\u001b[0;34m\u001b[0m\n\u001b[0;32m----> 1\u001b[0;31m \u001b[0mveg\u001b[0m \u001b[0;34m=\u001b[0m \u001b[0;34m{\u001b[0m\u001b[0;34m\"carrot\"\u001b[0m\u001b[0;34m,\u001b[0m \u001b[0;34m\"onion\"\u001b[0m\u001b[0;34m,\u001b[0m \u001b[0;34m[\u001b[0m\u001b[0;34m\"broccoli\"\u001b[0m\u001b[0;34m,\u001b[0m \u001b[0;34m\"green bean\"\u001b[0m\u001b[0;34m]\u001b[0m\u001b[0;34m}\u001b[0m\u001b[0;34m\u001b[0m\u001b[0;34m\u001b[0m\u001b[0m\n\u001b[0m\u001b[1;32m      2\u001b[0m \u001b[0mveg\u001b[0m\u001b[0;34m\u001b[0m\u001b[0;34m\u001b[0m\u001b[0m\n",
      "\u001b[0;31mTypeError\u001b[0m: unhashable type: 'list'"
     ]
    }
   ],
   "source": [
    "veg = {\"carrot\", \"onion\", [\"broccoli\", \"green bean\"]}\n",
    "veg"
   ]
  },
  {
   "cell_type": "code",
   "execution_count": 35,
   "id": "social-count",
   "metadata": {},
   "outputs": [
    {
     "data": {
      "text/plain": [
       "{'broccoli', 'carrot', 'green bean', 'onion', 'peas'}"
      ]
     },
     "execution_count": 35,
     "metadata": {},
     "output_type": "execute_result"
    }
   ],
   "source": [
    "veg.add(\"peas\")\n",
    "veg"
   ]
  },
  {
   "cell_type": "code",
   "execution_count": 36,
   "id": "isolated-german",
   "metadata": {},
   "outputs": [
    {
     "data": {
      "text/plain": [
       "{'broccoli', 'green bean', 'onion', 'peas'}"
      ]
     },
     "execution_count": 36,
     "metadata": {},
     "output_type": "execute_result"
    }
   ],
   "source": [
    "veg.remove(\"carrot\")\n",
    "veg"
   ]
  },
  {
   "cell_type": "code",
   "execution_count": null,
   "id": "permanent-consequence",
   "metadata": {},
   "outputs": [],
   "source": []
  },
  {
   "cell_type": "code",
   "execution_count": null,
   "id": "molecular-entrance",
   "metadata": {},
   "outputs": [],
   "source": []
  },
  {
   "cell_type": "code",
   "execution_count": null,
   "id": "national-detail",
   "metadata": {},
   "outputs": [],
   "source": []
  },
  {
   "cell_type": "code",
   "execution_count": null,
   "id": "adopted-sullivan",
   "metadata": {},
   "outputs": [],
   "source": []
  },
  {
   "cell_type": "markdown",
   "id": "known-credits",
   "metadata": {},
   "source": [
    "### Equivalence and Containment"
   ]
  },
  {
   "cell_type": "code",
   "execution_count": null,
   "id": "plastic-christopher",
   "metadata": {},
   "outputs": [],
   "source": []
  },
  {
   "cell_type": "code",
   "execution_count": null,
   "id": "fifty-navigation",
   "metadata": {},
   "outputs": [],
   "source": []
  },
  {
   "cell_type": "code",
   "execution_count": null,
   "id": "frequent-stability",
   "metadata": {},
   "outputs": [],
   "source": []
  },
  {
   "cell_type": "code",
   "execution_count": null,
   "id": "close-oasis",
   "metadata": {},
   "outputs": [],
   "source": []
  },
  {
   "cell_type": "markdown",
   "id": "reverse-triangle",
   "metadata": {},
   "source": [
    "Remember, there's a big difference between a single eqauals sign `=` and a double equals sign `==` in Python.  `=` assigns a value to a variable and `==` measures equivalence, with the result being a **boolean** value (either `True` or `False`)."
   ]
  },
  {
   "cell_type": "code",
   "execution_count": null,
   "id": "convertible-engineer",
   "metadata": {},
   "outputs": [],
   "source": []
  },
  {
   "cell_type": "code",
   "execution_count": null,
   "id": "anonymous-belfast",
   "metadata": {},
   "outputs": [],
   "source": []
  },
  {
   "cell_type": "code",
   "execution_count": null,
   "id": "funny-apartment",
   "metadata": {},
   "outputs": [],
   "source": []
  },
  {
   "cell_type": "code",
   "execution_count": null,
   "id": "pursuant-enterprise",
   "metadata": {},
   "outputs": [],
   "source": []
  },
  {
   "cell_type": "code",
   "execution_count": null,
   "id": "aerial-rabbit",
   "metadata": {},
   "outputs": [],
   "source": []
  },
  {
   "cell_type": "code",
   "execution_count": null,
   "id": "matched-rhythm",
   "metadata": {},
   "outputs": [],
   "source": []
  }
 ],
 "metadata": {
  "kernelspec": {
   "display_name": "Python 3 (ipykernel)",
   "language": "python",
   "name": "python3"
  },
  "language_info": {
   "codemirror_mode": {
    "name": "ipython",
    "version": 3
   },
   "file_extension": ".py",
   "mimetype": "text/x-python",
   "name": "python",
   "nbconvert_exporter": "python",
   "pygments_lexer": "ipython3",
   "version": "3.9.2"
  }
 },
 "nbformat": 4,
 "nbformat_minor": 5
}
