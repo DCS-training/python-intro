{
 "cells": [
  {
   "cell_type": "markdown",
   "id": "78e25ea7-d9bb-43c1-a206-ba48c7d5aec4",
   "metadata": {},
   "source": [
    "# Introduction to Python\n",
    "## Day 4 *(last day of class!)*\n",
    "\n",
    "* **Organization:** Centre for Data, Culture & Society, University of Edinburgh\n",
    "* **Instructor:** Lucy Havens\n",
    "* **Date:** 4 March 2022\n",
    "\n",
    "Today we'll continue using[Jupyter Notebooks](https://jupyter.org) to practice using the programming language [Python](https://www.python.org), answering any remaining questions and revisiting particularly challenging ideas from the past two weeks."
   ]
  },
  {
   "cell_type": "markdown",
   "id": "decreased-charger",
   "metadata": {},
   "source": [
    "### Assignment 3: Coding Challenges"
   ]
  },
  {
   "cell_type": "code",
   "execution_count": 88,
   "id": "confidential-bearing",
   "metadata": {},
   "outputs": [
    {
     "name": "stdout",
     "output_type": "stream",
     "text": [
      "Piers Plowman, The Canterbury Tales, Revelations of Divine Love, The Decameron, Le Morte d'Arthur\n",
      "Piers Plowman, The Canterbury Tales, Revelations of Divine Love, The Decameron, Le Morte d'Arthur\n",
      "Piers Plowman, The Canterbury Tales, Revelations of Divine Love, The Decameron, Le Morte d'Arthur\n",
      "Piers Plowman, The Canterbury Tales, Revelations of Divine Love, The Decameron, Le Morte d'Arthur\n"
     ]
    }
   ],
   "source": [
    "# Level 1 Challenge\n",
    "# A challenge to transform a list of books into a single string of comma-separated values\n",
    "# The result should be the string: 'Piers Plowman, The Canterbury Tales, Revelations of Divine Love, The Decameron, Le Morte d'Arthur'\n",
    "book_list = ['Piers Plowman', 'The Canterbury Tales', 'Revelations of Divine Love', 'The Decameron', \"Le Morte d'Arthur\"]\n",
    "\n",
    "##########################################################################################################\n",
    "\n",
    "# Solution 0\n",
    "# While loop that saves result in a variable\n",
    "\n",
    "book_string = book_list[0]\n",
    "i = 1\n",
    "maxI = len(book_list)\n",
    "while i < maxI:\n",
    "    book_string += \", \"+book_list[1]\n",
    "    i += 1\n",
    "book_string\n",
    "\n",
    "\n",
    "##########################################################################################################\n",
    "\n",
    "# Solution 1\n",
    "# For loop\n",
    "\n",
    "for book in book_list[:-1]: \n",
    "    print(book + ', ', end='')\n",
    "print(book_list[-1])\n",
    "\n",
    "##########################################################################################################\n",
    "\n",
    "# Solution 2 \n",
    "# For i in range()\n",
    "\n",
    "for i in range(len(book_list) - 1):  # creates an iterable: i=0, 1, 2, 3, ... \n",
    "    print(book_list[i] + ', ', end='')\n",
    "print(book_list[-1])\n",
    "\n",
    "##########################################################################################################\n",
    "\n",
    "# Solution 3\n",
    "# While loop\n",
    "\n",
    "i=0\n",
    "while i < (len(book_list) - 1):\n",
    "    print(book_list[i] + ', ', end='')\n",
    "    i += 1\n",
    "print(book_list[-1])\n",
    "\n",
    "##########################################################################################################\n",
    "\n",
    "# Solution 4\n",
    "# String join method\n",
    "# (We did not learn this join method, but it does exactly what we want)\n",
    "print(', '.join(book_list))"
   ]
  },
  {
   "cell_type": "code",
   "execution_count": 89,
   "id": "everyday-species",
   "metadata": {},
   "outputs": [
    {
     "name": "stdout",
     "output_type": "stream",
     "text": [
      "Piers Plowman by William Langland, The Canterbury Tales by Geoffrey Chaucer, Revelations of Divine Love by Julian of Norwich, The Decameron by Giovanni Boccaccio, and Le Morte d'Arthur by Sir Thomas Malory\n",
      "Piers Plowman by William Langland, The Canterbury Tales by Geoffrey Chaucer, Revelations of Divine Love by Julian of Norwich, The Decameron by Giovanni Boccaccio, and Le Morte d'Arthur by Sir Thomas Malory\n",
      "Piers Plowman by William Langland, The Canterbury Tales by Geoffrey Chaucer, Revelations of Divine Love by Julian of Norwich, The Decameron by Giovanni Boccaccio, and Le Morte d'Arthur by Sir Thomas Malory\n",
      "Piers Plowman by William Langland, The Canterbury Tales by Geoffrey Chaucer, Revelations of Divine Love by Julian of Norwich, The Decameron by Giovanni Boccaccio, and Le Morte d'Arthur by Sir Thomas Malory\n",
      "Piers Plowman by William Langland, The Canterbury Tales by Geoffrey Chaucer, Revelations of Divine Love by Julian of Norwich, The Decameron by Giovanni Boccaccio, and Le Morte d'Arthur by Sir Thomas Malory\n"
     ]
    }
   ],
   "source": [
    "# Level 2 Challenge\n",
    "# For even more challenge, transform a list of lists containing books and authors into a single string \n",
    "# of comma-separated values with an 'and' before the final value. Oxford comma please.\n",
    "# The result should be the string: 'Piers Plowman by William Langland, The Canterbury Tales by Geoffrey Chaucer,\n",
    "# Revelations of Divine Love by Julian of Norwich, The Decameron by Giovanni Boccaccio, and \n",
    "# Le Morte d'Arthur by Sir Thomas Malory'\n",
    "\n",
    "books_with_authors = [['Piers Plowman', 'William Langland'], ['The Canterbury Tales', 'Geoffrey Chaucer'], \n",
    "                      ['Revelations of Divine Love', 'Julian of Norwich'], \n",
    "                      ['The Decameron', 'Giovanni Boccaccio'], [\"Le Morte d'Arthur\", 'Sir Thomas Malory']]\n",
    "# b = sub-list, example: ['Piers Plowman', 'William Langland']\n",
    "# b[0] = first item in sub-list, example: 'Piers Plowman'\n",
    "\n",
    "##########################################################################################################\n",
    "# Solution 0\n",
    "# for loop and join method, saving result in a variable\n",
    "pair_strings_list = []\n",
    "for pair in books_with_authors:\n",
    "    pair_string = pair[0]+\" by \"+pair[1]\n",
    "    if pair != books_with_authors[-1]:\n",
    "        pair_string += \",\"\n",
    "    pair_strings_list += [pair_string]  # same as: pair_strings_list = pair_strings_list + [pair_string]\n",
    "    \n",
    "pair_strings_list.insert(4, \"and\")\n",
    "pairs = \" \".join(pair_strings_list)\n",
    "print(pairs)\n",
    "\n",
    "##########################################################################################################\n",
    "\n",
    "# Solution 1\n",
    "# For loop\n",
    "\n",
    "# For every item in the books_with_authors list up to but not including the last item\n",
    "for b in books_with_authors[:-1]:\n",
    "#     print(\"b:\",b)\n",
    "    # print the first subitem concatenated with ' by ' concatenated with the second subitem\n",
    "    # concatenated with comma since more books by authors will follow\n",
    "    print(b[0] + ' by ' + b[1] + ', ', end='') # newline \"\\n\"\n",
    "print('and ' + books_with_authors[-1][0] + ' by ' + books_with_authors[-1][1])\n",
    "\n",
    "##########################################################################################################\n",
    "\n",
    "# Solution 2\n",
    "# For i in range()\n",
    "\n",
    "for i in range(len(books_with_authors) - 1):  # range(5 - 1) --> range(4) --> 0, 1, 2, 3\n",
    "    print(books_with_authors[i][0] + ' by ' + books_with_authors[i][1] + ', ', end='')\n",
    "print('and ' + books_with_authors[-1][0] + ' by ' + books_with_authors[-1][1])\n",
    "\n",
    "##########################################################################################################\n",
    "\n",
    "# Solution 3\n",
    "# While loop\n",
    "i=0\n",
    "while i < (len(books_with_authors) - 1):\n",
    "    print(books_with_authors[i][0] + ' by ' + books_with_authors[i][1] + ', ', end='')\n",
    "    i += 1\n",
    "print('and ' + books_with_authors[-1][0] + ' by ' + books_with_authors[-1][1])\n",
    "\n",
    "##########################################################################################################\n",
    "\n",
    "# Solution 4\n",
    "# String join method \n",
    "# (We did not learn this method, but it does exactly what we want.)\n",
    "\n",
    "new_list = []\n",
    "for b in books_with_authors[:-1]:\n",
    "    new_list.append(str(b[0] + ' by ' + b[1]))\n",
    "\n",
    "print(', '.join(new_list) + ', and ' + books_with_authors[-1][0] + ' by ' + books_with_authors[-1][1])"
   ]
  },
  {
   "cell_type": "code",
   "execution_count": 1,
   "id": "engaging-capture",
   "metadata": {},
   "outputs": [],
   "source": [
    "books_with_authors = [['Piers Plowman', 'William Langland'], ['The Canterbury Tales', 'Geoffrey Chaucer'], \n",
    "                      ['Revelations of Divine Love', 'Julian of Norwich'], \n",
    "                      ['The Decameron', 'Giovanni Boccaccio'], [\"Le Morte d'Arthur\", 'Sir Thomas Malory']]"
   ]
  },
  {
   "cell_type": "code",
   "execution_count": 3,
   "id": "technical-gender",
   "metadata": {},
   "outputs": [
    {
     "data": {
      "text/plain": [
       "list"
      ]
     },
     "execution_count": 3,
     "metadata": {},
     "output_type": "execute_result"
    }
   ],
   "source": [
    "type(books_with_authors[0])"
   ]
  },
  {
   "cell_type": "code",
   "execution_count": 4,
   "id": "sticky-mounting",
   "metadata": {},
   "outputs": [
    {
     "data": {
      "text/plain": [
       "list"
      ]
     },
     "execution_count": 4,
     "metadata": {},
     "output_type": "execute_result"
    }
   ],
   "source": [
    "type(books_with_authors)"
   ]
  },
  {
   "cell_type": "code",
   "execution_count": 6,
   "id": "convertible-cartridge",
   "metadata": {},
   "outputs": [
    {
     "name": "stdout",
     "output_type": "stream",
     "text": [
      "['Piers Plowman', 'William Langland']\n",
      "Piers Plowman\n",
      "William Langland\n"
     ]
    }
   ],
   "source": [
    "first_sublist = books_with_authors[0]\n",
    "print(first_sublist)\n",
    "print(first_sublist[0])\n",
    "print(first_sublist[1])"
   ]
  },
  {
   "cell_type": "code",
   "execution_count": 9,
   "id": "finnish-oregon",
   "metadata": {},
   "outputs": [
    {
     "name": "stdout",
     "output_type": "stream",
     "text": [
      "[\"Le Morte d'Arthur\", 'Sir Thomas Malory']\n",
      "Le Morte d'Arthur\n",
      "Sir Thomas Malory\n"
     ]
    }
   ],
   "source": [
    "last_sublist = books_with_authors[-1]\n",
    "print(last_sublist)\n",
    "print(last_sublist[0])  # first item of last sublist\n",
    "print(last_sublist[1]) # last item of last sublist (can also reference with [-1])"
   ]
  },
  {
   "cell_type": "code",
   "execution_count": 12,
   "id": "excellent-argument",
   "metadata": {},
   "outputs": [
    {
     "name": "stdout",
     "output_type": "stream",
     "text": [
      "[['The Canterbury Tales', 'Geoffrey Chaucer'], ['Revelations of Divine Love', 'Julian of Norwich']]\n",
      "['The Canterbury Tales', 'Geoffrey Chaucer']\n",
      "Geoffrey Chaucer\n"
     ]
    }
   ],
   "source": [
    "# Slicing - using `:` to get a range of items in a list\n",
    "print(books_with_authors[1:3])  # second and third items (which are also lists)\n",
    "print(books_with_authors[1:3][0])\n",
    "print(books_with_authors[1:3][0][1])"
   ]
  },
  {
   "cell_type": "code",
   "execution_count": 14,
   "id": "present-thread",
   "metadata": {},
   "outputs": [
    {
     "name": "stdout",
     "output_type": "stream",
     "text": [
      "[['The Canterbury Tales', 'Geoffrey Chaucer'], ['Revelations of Divine Love', 'Julian of Norwich']]\n",
      "['The Canterbury Tales', 'Geoffrey Chaucer']\n",
      "Geoffrey Chaucer\n"
     ]
    }
   ],
   "source": [
    "# Slicing - using `:` to get a range of items in a list\n",
    "\n",
    "first_and_second_sublists = books_with_authors[1:3]\n",
    "\n",
    "print(first_and_second_sublists)  # second and third items (which are also lists)\n",
    "# print(first_and_second_sublists[0])  \n",
    "first_sublist = first_and_second_sublists[0]\n",
    "print(first_sublist)\n",
    "first_item_first_sublist = first_sublist[1]\n",
    "print(first_item_first_sublist)"
   ]
  },
  {
   "cell_type": "code",
   "execution_count": 15,
   "id": "labeled-being",
   "metadata": {},
   "outputs": [
    {
     "name": "stdout",
     "output_type": "stream",
     "text": [
      "Piers Plowman by William Langland, \n",
      "The Canterbury Tales by Geoffrey Chaucer, \n",
      "Revelations of Divine Love by Julian of Norwich, \n",
      "The Decameron by Giovanni Boccaccio, \n",
      "and Le Morte d'Arthur by Sir Thomas Malory\n"
     ]
    }
   ],
   "source": [
    "for b in books_with_authors[:-1]:\n",
    "#     print(\"b:\",b)\n",
    "    # print the first subitem concatenated with ' by ' concatenated with the second subitem\n",
    "    # concatenated with comma since more books by authors will follow\n",
    "    print(b[0] + ' by ' + b[1] + ', ') # same as: print(b[0] + ' by ' + b[1] + ', ', end=\"\\n\") --> \\n is newline\n",
    "print('and ' + books_with_authors[-1][0] + ' by ' + books_with_authors[-1][1])"
   ]
  },
  {
   "cell_type": "code",
   "execution_count": 20,
   "id": "diverse-auditor",
   "metadata": {},
   "outputs": [
    {
     "name": "stdout",
     "output_type": "stream",
     "text": [
      "Piers Plowman by William Langland, The Canterbury Tales by Geoffrey Chaucer, Revelations of Divine Love by Julian of Norwich, The Decameron by Giovanni Boccaccio, and Le Morte d'Arthur by Sir Thomas Malory\n"
     ]
    }
   ],
   "source": [
    "for b in books_with_authors[:-1]:\n",
    "#     print(\"b:\",b)\n",
    "    # print the first subitem concatenated with ' by ' concatenated with the second subitem\n",
    "    # concatenated with comma since more books by authors will follow\n",
    "    print(b[0] + ' by ' + b[1] + ',', end=' ')\n",
    "    # print(b[0] + ' by ' + b[1] + ', ', end='')  # same output as previous line\n",
    "print('and ' + books_with_authors[-1][0] + ' by ' + books_with_authors[-1][1])"
   ]
  },
  {
   "cell_type": "code",
   "execution_count": 17,
   "id": "arabic-change",
   "metadata": {},
   "outputs": [
    {
     "name": "stdout",
     "output_type": "stream",
     "text": [
      "hi\n",
      "how are you?\n"
     ]
    }
   ],
   "source": [
    "print(\"hi\")\n",
    "print(\"how are you?\")"
   ]
  },
  {
   "cell_type": "code",
   "execution_count": null,
   "id": "mineral-hungary",
   "metadata": {},
   "outputs": [],
   "source": []
  },
  {
   "cell_type": "code",
   "execution_count": null,
   "id": "increased-ireland",
   "metadata": {},
   "outputs": [],
   "source": []
  },
  {
   "cell_type": "markdown",
   "id": "baking-reception",
   "metadata": {},
   "source": [
    "### Review"
   ]
  },
  {
   "cell_type": "code",
   "execution_count": 90,
   "id": "oriental-cross",
   "metadata": {},
   "outputs": [],
   "source": [
    "# What is this type of cell called in a Jupyter Notebook?"
   ]
  },
  {
   "cell_type": "markdown",
   "id": "afraid-butter",
   "metadata": {},
   "source": [
    "What is the data type of w?  x?  y?  z?"
   ]
  },
  {
   "cell_type": "code",
   "execution_count": 91,
   "id": "dying-guard",
   "metadata": {},
   "outputs": [],
   "source": [
    "w = {1:\"a\", 2:\"b\", 3:\"c\"}\n",
    "x = [\"Autumn\", \"Winter\", \"Spring\", \"Summer\"]\n",
    "y = (\"tulips\", \"daffodils\", 'sunflowers', \"carnations\")\n",
    "z = {\"March\", \"April\", \"May\"}"
   ]
  },
  {
   "cell_type": "code",
   "execution_count": 92,
   "id": "structural-trouble",
   "metadata": {},
   "outputs": [
    {
     "name": "stdout",
     "output_type": "stream",
     "text": [
      "<class 'dict'>\n",
      "<class 'list'>\n",
      "<class 'tuple'>\n",
      "<class 'set'>\n"
     ]
    }
   ],
   "source": [
    "data_list = [w, x, y, z]\n",
    "for d in data_list:\n",
    "    print(type(d))"
   ]
  },
  {
   "cell_type": "markdown",
   "id": "endless-lightweight",
   "metadata": {},
   "source": [
    "How can I reference the second item in w?\n",
    "\n",
    "How can I reference the second item in x?\n",
    "\n",
    "How can I reference the second item in y?\n",
    "\n",
    "How can I reference the second item in z?"
   ]
  },
  {
   "cell_type": "code",
   "execution_count": null,
   "id": "successful-antibody",
   "metadata": {},
   "outputs": [],
   "source": []
  },
  {
   "cell_type": "markdown",
   "id": "patient-rocket",
   "metadata": {},
   "source": [
    "What will the following lines of code print?"
   ]
  },
  {
   "cell_type": "code",
   "execution_count": 94,
   "id": "surrounded-tract",
   "metadata": {},
   "outputs": [
    {
     "name": "stdout",
     "output_type": "stream",
     "text": [
      "dict_keys([1, 2, 3])\n",
      "dict_values(['a', 'b', 'c'])\n"
     ]
    }
   ],
   "source": [
    "w = {1:\"a\", 2:\"b\", 3:\"c\"}\n",
    "print(w.keys())\n",
    "print(w.values())"
   ]
  },
  {
   "cell_type": "code",
   "execution_count": 97,
   "id": "divine-decade",
   "metadata": {},
   "outputs": [
    {
     "name": "stdout",
     "output_type": "stream",
     "text": [
      "[(1, 'a'), (2, 'b'), (3, 'c')]\n"
     ]
    }
   ],
   "source": [
    "# Challenge:\n",
    "print([(a,b) for a,b in w.items()])"
   ]
  },
  {
   "cell_type": "markdown",
   "id": "private-shield",
   "metadata": {},
   "source": [
    "What does the following cell contain?"
   ]
  },
  {
   "cell_type": "code",
   "execution_count": 100,
   "id": "cooked-extent",
   "metadata": {},
   "outputs": [],
   "source": [
    "def introductions():\n",
    "    print(\"What's your name?  Please type it into the text box and then press 'Enter.'\")\n",
    "    user_name = input()\n",
    "    return \"Nice to meet you, {user}!\".format(user=user_name)"
   ]
  },
  {
   "cell_type": "code",
   "execution_count": 101,
   "id": "nearby-jackson",
   "metadata": {},
   "outputs": [
    {
     "name": "stdout",
     "output_type": "stream",
     "text": [
      "What's your name?  Please type it into the text box and then press 'Enter.'\n",
      "Lucy\n"
     ]
    },
    {
     "data": {
      "text/plain": [
       "'Nice to meet you, Lucy!'"
      ]
     },
     "execution_count": 101,
     "metadata": {},
     "output_type": "execute_result"
    }
   ],
   "source": [
    "introductions()"
   ]
  },
  {
   "cell_type": "markdown",
   "id": "atomic-blond",
   "metadata": {},
   "source": [
    "What is the difference between `len()` and `lower()`?"
   ]
  },
  {
   "cell_type": "code",
   "execution_count": null,
   "id": "maritime-hometown",
   "metadata": {},
   "outputs": [],
   "source": []
  },
  {
   "cell_type": "markdown",
   "id": "laughing-editing",
   "metadata": {},
   "source": [
    "What are four ways to write a line of code that adds another month to the list `months`?"
   ]
  },
  {
   "cell_type": "code",
   "execution_count": null,
   "id": "comfortable-substitute",
   "metadata": {},
   "outputs": [],
   "source": [
    "months = [\"March\", \"April\", \"May\"]"
   ]
  },
  {
   "cell_type": "code",
   "execution_count": null,
   "id": "resident-rescue",
   "metadata": {},
   "outputs": [],
   "source": []
  },
  {
   "cell_type": "code",
   "execution_count": null,
   "id": "national-corruption",
   "metadata": {},
   "outputs": [],
   "source": []
  },
  {
   "cell_type": "code",
   "execution_count": null,
   "id": "toxic-allocation",
   "metadata": {},
   "outputs": [],
   "source": []
  },
  {
   "cell_type": "code",
   "execution_count": null,
   "id": "cultural-silver",
   "metadata": {},
   "outputs": [],
   "source": []
  },
  {
   "cell_type": "markdown",
   "id": "welcome-bunny",
   "metadata": {},
   "source": [
    "### Equivalence and Containment"
   ]
  },
  {
   "cell_type": "code",
   "execution_count": 102,
   "id": "confused-creek",
   "metadata": {},
   "outputs": [
    {
     "name": "stdout",
     "output_type": "stream",
     "text": [
      "False\n",
      "True\n",
      "True\n"
     ]
    }
   ],
   "source": [
    "print(True == False)\n",
    "print(False == False)\n",
    "print(True != False)"
   ]
  },
  {
   "cell_type": "markdown",
   "id": "happy-zimbabwe",
   "metadata": {},
   "source": [
    "There's a big difference between `=` and `==`!"
   ]
  },
  {
   "cell_type": "code",
   "execution_count": 22,
   "id": "trained-monkey",
   "metadata": {},
   "outputs": [
    {
     "name": "stdout",
     "output_type": "stream",
     "text": [
      "my_set contains 10\n"
     ]
    }
   ],
   "source": [
    "my_set = {10, 20, 30, 40, 50}\n",
    "# print(60 in my_set)\n",
    "\n",
    "# n = 10\n",
    "# set_name = \"my_set\"\n",
    "# if n in my_set:\n",
    "#     print(\"{set_name} contains {n}\".format(set_name=set_name, n=n))\n",
    "    \n",
    "user_n = 10\n",
    "user_set_name = \"my_set\"\n",
    "if n in my_set:\n",
    "    print(\"{set_name} contains {n}\".format(set_name=user_set_name, n=user_n))"
   ]
  },
  {
   "cell_type": "code",
   "execution_count": 26,
   "id": "super-snapshot",
   "metadata": {},
   "outputs": [
    {
     "name": "stdout",
     "output_type": "stream",
     "text": [
      "True\n",
      "False\n",
      "False\n",
      "True\n"
     ]
    }
   ],
   "source": [
    "my_list = [1, 2, 3, 4, 5]\n",
    "print(6 not in my_list)\n",
    "print(3 not in my_list)\n",
    "print(3.0 not in my_list)\n",
    "print(3 == 3.0)"
   ]
  },
  {
   "cell_type": "markdown",
   "id": "ahead-sponsorship",
   "metadata": {},
   "source": [
    "### Memory Management"
   ]
  },
  {
   "cell_type": "code",
   "execution_count": 27,
   "id": "recent-maximum",
   "metadata": {},
   "outputs": [],
   "source": [
    "x = 100  # Python Memory Manager (PMM) creates object 100, and refers the variable x to that object"
   ]
  },
  {
   "cell_type": "code",
   "execution_count": 29,
   "id": "original-queue",
   "metadata": {},
   "outputs": [],
   "source": [
    "y = 100  # PMM DOES NOT create an object; it refers the variable y to the same object x refers to"
   ]
  },
  {
   "cell_type": "code",
   "execution_count": 33,
   "id": "improving-nudist",
   "metadata": {},
   "outputs": [],
   "source": [
    "# print(id(x), id(y))\n",
    "# assert(id(x) == id(y)), \"Variables x and y don't have the same ID\"\n",
    "assert id(x) == id(y), \"Variables x and y don't have the same ID\""
   ]
  },
  {
   "cell_type": "code",
   "execution_count": 36,
   "id": "refined-military",
   "metadata": {},
   "outputs": [],
   "source": [
    "x = 101  # PMM creates object 101, and changes variable x to refer to that new object"
   ]
  },
  {
   "cell_type": "code",
   "execution_count": 37,
   "id": "environmental-scroll",
   "metadata": {},
   "outputs": [
    {
     "ename": "AssertionError",
     "evalue": "Variables x and y don't have the same ID",
     "output_type": "error",
     "traceback": [
      "\u001b[0;31m---------------------------------------------------------------------------\u001b[0m",
      "\u001b[0;31mAssertionError\u001b[0m                            Traceback (most recent call last)",
      "\u001b[0;32m/tmp/ipykernel_30/2347818430.py\u001b[0m in \u001b[0;36m<module>\u001b[0;34m\u001b[0m\n\u001b[0;32m----> 1\u001b[0;31m \u001b[0;32massert\u001b[0m\u001b[0;34m(\u001b[0m\u001b[0mid\u001b[0m\u001b[0;34m(\u001b[0m\u001b[0mx\u001b[0m\u001b[0;34m)\u001b[0m \u001b[0;34m==\u001b[0m \u001b[0mid\u001b[0m\u001b[0;34m(\u001b[0m\u001b[0my\u001b[0m\u001b[0;34m)\u001b[0m\u001b[0;34m)\u001b[0m\u001b[0;34m,\u001b[0m \u001b[0;34m\"Variables x and y don't have the same ID\"\u001b[0m\u001b[0;34m\u001b[0m\u001b[0;34m\u001b[0m\u001b[0m\n\u001b[0m",
      "\u001b[0;31mAssertionError\u001b[0m: Variables x and y don't have the same ID"
     ]
    }
   ],
   "source": [
    "assert(id(x) == id(y)), \"Variables x and y don't have the same ID\""
   ]
  },
  {
   "cell_type": "code",
   "execution_count": 38,
   "id": "floral-tablet",
   "metadata": {},
   "outputs": [],
   "source": [
    "y = 102  # PMM creates object 102, and changes variable y to refer to that new object\n",
    "         # object 100 gets garbage collected because PMM counts its referents and finds the count to be 0"
   ]
  },
  {
   "cell_type": "markdown",
   "id": "incredible-prefix",
   "metadata": {},
   "source": [
    "### Writing Efficient Code\n",
    "\n",
    "In Jupyter Notebooks, you can keep an eye on your memory usage using the indicator to the top right.  If your memory fills up (for example, if you've read in a large number of documents and haven't closed them, or are storing all their text at once in a list), your Notebook won't work anymore.\n",
    "\n",
    "\n",
    "#### List Comprehension\n",
    "A more compact way to write code that creates a **list** that is also more efficient!"
   ]
  },
  {
   "cell_type": "code",
   "execution_count": 40,
   "id": "lined-tennis",
   "metadata": {},
   "outputs": [],
   "source": [
    "from timeit import default_timer as timer\n",
    "# import timeit as t  # aliasing"
   ]
  },
  {
   "cell_type": "code",
   "execution_count": 41,
   "id": "engaging-resident",
   "metadata": {},
   "outputs": [],
   "source": [
    "def listZeroToN(arg):\n",
    "    x = []\n",
    "    for a in range(arg):  # range() is an \"iterable\" because we can iterate (loop) through it\n",
    "        x.append(a)\n",
    "    x.append(arg)\n",
    "    return x"
   ]
  },
  {
   "cell_type": "code",
   "execution_count": 42,
   "id": "assigned-volunteer",
   "metadata": {},
   "outputs": [
    {
     "name": "stdout",
     "output_type": "stream",
     "text": [
      "0.0010338537395000458\n"
     ]
    }
   ],
   "source": [
    "n = 10000\n",
    "start = timer()\n",
    "listZeroToN(n)\n",
    "end = timer()\n",
    "print(end-start)"
   ]
  },
  {
   "cell_type": "code",
   "execution_count": 43,
   "id": "reduced-environment",
   "metadata": {},
   "outputs": [
    {
     "name": "stdout",
     "output_type": "stream",
     "text": [
      "0.000490482896566391\n"
     ]
    }
   ],
   "source": [
    "# Keep n = 10000\n",
    "start = timer()\n",
    "x = [a for a in range(n)]\n",
    "end = timer()\n",
    "print(end-start)"
   ]
  },
  {
   "cell_type": "markdown",
   "id": "composite-credit",
   "metadata": {},
   "source": [
    "#### Generators\n",
    "Generators are even faster than list comprehension, because they don't store all items in a sequence simultaneously.  Instead, generators access a sequence's items on the fly."
   ]
  },
  {
   "cell_type": "code",
   "execution_count": 44,
   "id": "funky-technician",
   "metadata": {},
   "outputs": [
    {
     "name": "stdout",
     "output_type": "stream",
     "text": [
      "0.00018927454948425293\n"
     ]
    }
   ],
   "source": [
    "# Keep n = 10000\n",
    "start = timer()\n",
    "x = (a for a in range(n))\n",
    "end = timer()\n",
    "print(end-start)"
   ]
  },
  {
   "cell_type": "markdown",
   "id": "precise-newark",
   "metadata": {},
   "source": [
    "Notice that the syntax is very similar to list comprehension, it just uses `( ... )` instead of `[ ... ]`."
   ]
  },
  {
   "cell_type": "code",
   "execution_count": 45,
   "id": "balanced-vector",
   "metadata": {},
   "outputs": [],
   "source": [
    "# List comprehension\n",
    "my_list = [i*i for i in range(10)]\n",
    "\n",
    "# Generator\n",
    "my_generator = (i*i for i in range(10))"
   ]
  },
  {
   "cell_type": "code",
   "execution_count": 46,
   "id": "removable-federal",
   "metadata": {},
   "outputs": [
    {
     "data": {
      "text/plain": [
       "25"
      ]
     },
     "execution_count": 46,
     "metadata": {},
     "output_type": "execute_result"
    }
   ],
   "source": [
    "my_list[5]"
   ]
  },
  {
   "cell_type": "code",
   "execution_count": 47,
   "id": "brief-catalog",
   "metadata": {},
   "outputs": [
    {
     "ename": "TypeError",
     "evalue": "'generator' object is not subscriptable",
     "output_type": "error",
     "traceback": [
      "\u001b[0;31m---------------------------------------------------------------------------\u001b[0m",
      "\u001b[0;31mTypeError\u001b[0m                                 Traceback (most recent call last)",
      "\u001b[0;32m/tmp/ipykernel_30/2486138223.py\u001b[0m in \u001b[0;36m<module>\u001b[0;34m\u001b[0m\n\u001b[0;32m----> 1\u001b[0;31m \u001b[0mmy_generator\u001b[0m\u001b[0;34m[\u001b[0m\u001b[0;36m5\u001b[0m\u001b[0;34m]\u001b[0m\u001b[0;34m\u001b[0m\u001b[0;34m\u001b[0m\u001b[0m\n\u001b[0m",
      "\u001b[0;31mTypeError\u001b[0m: 'generator' object is not subscriptable"
     ]
    }
   ],
   "source": [
    "my_generator[5]"
   ]
  },
  {
   "cell_type": "markdown",
   "id": "awful-concert",
   "metadata": {},
   "source": [
    "Generators are *not* indexable.  That being said, if you have a lot of data to iterate through that requires a generator, you can turn the generator into the data type list using the `list()` function so that the items in the sequence are once again indexable:"
   ]
  },
  {
   "cell_type": "code",
   "execution_count": 48,
   "id": "bulgarian-vietnam",
   "metadata": {},
   "outputs": [
    {
     "data": {
      "text/plain": [
       "25"
      ]
     },
     "execution_count": 48,
     "metadata": {},
     "output_type": "execute_result"
    }
   ],
   "source": [
    "my_generator_list = list((my_generator))  # Be sure to wrap the generator in parentheses within the function!\n",
    "my_generator_list[5]"
   ]
  },
  {
   "cell_type": "code",
   "execution_count": null,
   "id": "relative-emerald",
   "metadata": {},
   "outputs": [],
   "source": []
  },
  {
   "cell_type": "code",
   "execution_count": null,
   "id": "consolidated-retailer",
   "metadata": {},
   "outputs": [],
   "source": []
  },
  {
   "cell_type": "code",
   "execution_count": null,
   "id": "alternate-thriller",
   "metadata": {},
   "outputs": [],
   "source": []
  },
  {
   "cell_type": "code",
   "execution_count": null,
   "id": "described-stream",
   "metadata": {},
   "outputs": [],
   "source": []
  }
 ],
 "metadata": {
  "kernelspec": {
   "display_name": "Python 3 (ipykernel)",
   "language": "python",
   "name": "python3"
  },
  "language_info": {
   "codemirror_mode": {
    "name": "ipython",
    "version": 3
   },
   "file_extension": ".py",
   "mimetype": "text/x-python",
   "name": "python",
   "nbconvert_exporter": "python",
   "pygments_lexer": "ipython3",
   "version": "3.9.2"
  }
 },
 "nbformat": 4,
 "nbformat_minor": 5
}
